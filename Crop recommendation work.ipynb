{
 "cells": [
  {
   "cell_type": "code",
   "execution_count": 1,
   "id": "c652c066-6c9a-4802-b1f0-e9c8e0b4f5cb",
   "metadata": {},
   "outputs": [],
   "source": [
    "from __future__ import print_function\n",
    "import pandas as pd\n",
    "import numpy as np\n",
    "import matplotlib.pyplot as plt\n",
    "import seaborn as sns\n",
    "from sklearn.metrics import classification_report\n",
    "from sklearn import metrics\n",
    "from sklearn import tree"
   ]
  },
  {
   "cell_type": "code",
   "execution_count": 2,
   "id": "34456fb2-23d2-4d29-b85c-9f806d25f0ac",
   "metadata": {},
   "outputs": [],
   "source": [
    "data_path = 'Crop_recommendation.csv'\n",
    "df = pd.read_csv(data_path)"
   ]
  },
  {
   "cell_type": "code",
   "execution_count": 3,
   "id": "4dae2d06-3870-43ce-b9d1-94fe3aaa92b4",
   "metadata": {},
   "outputs": [
    {
     "data": {
      "text/plain": [
       "Nitrogen (mg)      0\n",
       "Phosphorus (mg)    0\n",
       "Potassium (mg)     0\n",
       "Temperature (C)    0\n",
       "Humidity (%)       0\n",
       "PH (3-11)          0\n",
       "Rainfall (mm)      0\n",
       "label              0\n",
       "dtype: int64"
      ]
     },
     "execution_count": 3,
     "metadata": {},
     "output_type": "execute_result"
    }
   ],
   "source": [
    "df.isnull().sum()"
   ]
  },
  {
   "cell_type": "code",
   "execution_count": 4,
   "id": "48a1054b-215c-4ce8-b0f5-588bea9099dd",
   "metadata": {},
   "outputs": [
    {
     "data": {
      "text/html": [
       "<div>\n",
       "<style scoped>\n",
       "    .dataframe tbody tr th:only-of-type {\n",
       "        vertical-align: middle;\n",
       "    }\n",
       "\n",
       "    .dataframe tbody tr th {\n",
       "        vertical-align: top;\n",
       "    }\n",
       "\n",
       "    .dataframe thead th {\n",
       "        text-align: right;\n",
       "    }\n",
       "</style>\n",
       "<table border=\"1\" class=\"dataframe\">\n",
       "  <thead>\n",
       "    <tr style=\"text-align: right;\">\n",
       "      <th></th>\n",
       "      <th>Nitrogen (mg)</th>\n",
       "      <th>Phosphorus (mg)</th>\n",
       "      <th>Potassium (mg)</th>\n",
       "      <th>Temperature (C)</th>\n",
       "      <th>Humidity (%)</th>\n",
       "      <th>PH (3-11)</th>\n",
       "      <th>Rainfall (mm)</th>\n",
       "      <th>label</th>\n",
       "    </tr>\n",
       "  </thead>\n",
       "  <tbody>\n",
       "    <tr>\n",
       "      <th>0</th>\n",
       "      <td>90</td>\n",
       "      <td>42</td>\n",
       "      <td>43</td>\n",
       "      <td>20.879744</td>\n",
       "      <td>82.002744</td>\n",
       "      <td>6.502985</td>\n",
       "      <td>202.935536</td>\n",
       "      <td>rice</td>\n",
       "    </tr>\n",
       "    <tr>\n",
       "      <th>1</th>\n",
       "      <td>85</td>\n",
       "      <td>58</td>\n",
       "      <td>41</td>\n",
       "      <td>21.770462</td>\n",
       "      <td>80.319644</td>\n",
       "      <td>7.038096</td>\n",
       "      <td>226.655537</td>\n",
       "      <td>rice</td>\n",
       "    </tr>\n",
       "    <tr>\n",
       "      <th>2</th>\n",
       "      <td>60</td>\n",
       "      <td>55</td>\n",
       "      <td>44</td>\n",
       "      <td>23.004459</td>\n",
       "      <td>82.320763</td>\n",
       "      <td>7.840207</td>\n",
       "      <td>263.964248</td>\n",
       "      <td>rice</td>\n",
       "    </tr>\n",
       "    <tr>\n",
       "      <th>3</th>\n",
       "      <td>74</td>\n",
       "      <td>35</td>\n",
       "      <td>40</td>\n",
       "      <td>26.491096</td>\n",
       "      <td>80.158363</td>\n",
       "      <td>6.980401</td>\n",
       "      <td>242.864034</td>\n",
       "      <td>rice</td>\n",
       "    </tr>\n",
       "    <tr>\n",
       "      <th>4</th>\n",
       "      <td>78</td>\n",
       "      <td>42</td>\n",
       "      <td>42</td>\n",
       "      <td>20.130175</td>\n",
       "      <td>81.604873</td>\n",
       "      <td>7.628473</td>\n",
       "      <td>262.717340</td>\n",
       "      <td>rice</td>\n",
       "    </tr>\n",
       "  </tbody>\n",
       "</table>\n",
       "</div>"
      ],
      "text/plain": [
       "   Nitrogen (mg)  Phosphorus (mg)  Potassium (mg)  Temperature (C)  \\\n",
       "0             90               42              43        20.879744   \n",
       "1             85               58              41        21.770462   \n",
       "2             60               55              44        23.004459   \n",
       "3             74               35              40        26.491096   \n",
       "4             78               42              42        20.130175   \n",
       "\n",
       "   Humidity (%)  PH (3-11)  Rainfall (mm) label  \n",
       "0     82.002744   6.502985     202.935536  rice  \n",
       "1     80.319644   7.038096     226.655537  rice  \n",
       "2     82.320763   7.840207     263.964248  rice  \n",
       "3     80.158363   6.980401     242.864034  rice  \n",
       "4     81.604873   7.628473     262.717340  rice  "
      ]
     },
     "execution_count": 4,
     "metadata": {},
     "output_type": "execute_result"
    }
   ],
   "source": [
    "df.head()"
   ]
  },
  {
   "cell_type": "code",
   "execution_count": 5,
   "id": "d721ea15-1e52-4255-8e98-7a3805d8a6fb",
   "metadata": {},
   "outputs": [
    {
     "data": {
      "text/html": [
       "<div>\n",
       "<style scoped>\n",
       "    .dataframe tbody tr th:only-of-type {\n",
       "        vertical-align: middle;\n",
       "    }\n",
       "\n",
       "    .dataframe tbody tr th {\n",
       "        vertical-align: top;\n",
       "    }\n",
       "\n",
       "    .dataframe thead th {\n",
       "        text-align: right;\n",
       "    }\n",
       "</style>\n",
       "<table border=\"1\" class=\"dataframe\">\n",
       "  <thead>\n",
       "    <tr style=\"text-align: right;\">\n",
       "      <th></th>\n",
       "      <th>Nitrogen (mg)</th>\n",
       "      <th>Phosphorus (mg)</th>\n",
       "      <th>Potassium (mg)</th>\n",
       "      <th>Temperature (C)</th>\n",
       "      <th>Humidity (%)</th>\n",
       "      <th>PH (3-11)</th>\n",
       "      <th>Rainfall (mm)</th>\n",
       "      <th>label</th>\n",
       "    </tr>\n",
       "  </thead>\n",
       "  <tbody>\n",
       "    <tr>\n",
       "      <th>8795</th>\n",
       "      <td>13</td>\n",
       "      <td>63</td>\n",
       "      <td>23</td>\n",
       "      <td>31.391055</td>\n",
       "      <td>51.453392</td>\n",
       "      <td>9.181497</td>\n",
       "      <td>42.440543</td>\n",
       "      <td>groundnuts</td>\n",
       "    </tr>\n",
       "    <tr>\n",
       "      <th>8796</th>\n",
       "      <td>31</td>\n",
       "      <td>55</td>\n",
       "      <td>17</td>\n",
       "      <td>29.923445</td>\n",
       "      <td>64.416451</td>\n",
       "      <td>8.898774</td>\n",
       "      <td>70.104721</td>\n",
       "      <td>groundnuts</td>\n",
       "    </tr>\n",
       "    <tr>\n",
       "      <th>8797</th>\n",
       "      <td>42</td>\n",
       "      <td>51</td>\n",
       "      <td>18</td>\n",
       "      <td>26.608803</td>\n",
       "      <td>50.689086</td>\n",
       "      <td>8.880159</td>\n",
       "      <td>63.918765</td>\n",
       "      <td>groundnuts</td>\n",
       "    </tr>\n",
       "    <tr>\n",
       "      <th>8798</th>\n",
       "      <td>11</td>\n",
       "      <td>55</td>\n",
       "      <td>18</td>\n",
       "      <td>27.688200</td>\n",
       "      <td>48.261590</td>\n",
       "      <td>6.013664</td>\n",
       "      <td>38.532547</td>\n",
       "      <td>groundnuts</td>\n",
       "    </tr>\n",
       "    <tr>\n",
       "      <th>8799</th>\n",
       "      <td>25</td>\n",
       "      <td>55</td>\n",
       "      <td>22</td>\n",
       "      <td>33.191011</td>\n",
       "      <td>52.475590</td>\n",
       "      <td>6.727969</td>\n",
       "      <td>32.812965</td>\n",
       "      <td>groundnuts</td>\n",
       "    </tr>\n",
       "  </tbody>\n",
       "</table>\n",
       "</div>"
      ],
      "text/plain": [
       "      Nitrogen (mg)  Phosphorus (mg)  Potassium (mg)  Temperature (C)  \\\n",
       "8795             13               63              23        31.391055   \n",
       "8796             31               55              17        29.923445   \n",
       "8797             42               51              18        26.608803   \n",
       "8798             11               55              18        27.688200   \n",
       "8799             25               55              22        33.191011   \n",
       "\n",
       "      Humidity (%)  PH (3-11)  Rainfall (mm)       label  \n",
       "8795     51.453392   9.181497      42.440543  groundnuts  \n",
       "8796     64.416451   8.898774      70.104721  groundnuts  \n",
       "8797     50.689086   8.880159      63.918765  groundnuts  \n",
       "8798     48.261590   6.013664      38.532547  groundnuts  \n",
       "8799     52.475590   6.727969      32.812965  groundnuts  "
      ]
     },
     "execution_count": 5,
     "metadata": {},
     "output_type": "execute_result"
    }
   ],
   "source": [
    "df.tail()"
   ]
  },
  {
   "cell_type": "code",
   "execution_count": 6,
   "id": "a5bc4a98-61a4-45f8-86d8-4f99dec6322f",
   "metadata": {},
   "outputs": [
    {
     "name": "stdout",
     "output_type": "stream",
     "text": [
      "Rows, Cols = (8800, 8)\n",
      "Rows * Cols = 70400\n"
     ]
    },
    {
     "data": {
      "text/plain": [
       "Index(['Nitrogen (mg)', 'Phosphorus (mg)', 'Potassium (mg)', 'Temperature (C)',\n",
       "       'Humidity (%)', 'PH (3-11)', 'Rainfall (mm)', 'label'],\n",
       "      dtype='object')"
      ]
     },
     "execution_count": 6,
     "metadata": {},
     "output_type": "execute_result"
    }
   ],
   "source": [
    "print(f\"Rows, Cols = {df.shape}\")\n",
    "print(f\"Rows * Cols = {df.size}\")\n",
    "# features of dataset\n",
    "df.columns"
   ]
  },
  {
   "cell_type": "code",
   "execution_count": 7,
   "id": "ed9fd12d-05dd-4c2f-ae8a-3af70db009a5",
   "metadata": {},
   "outputs": [
    {
     "data": {
      "text/plain": [
       "array(['rice', 'maize', 'chickpea', 'kidneybeans', 'pigeonpeas',\n",
       "       'mothbeans', 'mungbean', 'blackgram', 'lentil', 'pomegranate',\n",
       "       'banana', 'mango', 'grapes', 'watermelon', 'muskmelon', 'orange',\n",
       "       'papaya', 'coconut', 'cotton', 'jute', 'coffee', 'groundnuts'],\n",
       "      dtype=object)"
      ]
     },
     "execution_count": 7,
     "metadata": {},
     "output_type": "execute_result"
    }
   ],
   "source": [
    "df['label'].unique()"
   ]
  },
  {
   "cell_type": "code",
   "execution_count": 8,
   "id": "4c0ff4c8-ac5e-4feb-879a-9144c84c9fee",
   "metadata": {},
   "outputs": [
    {
     "data": {
      "text/plain": [
       "<Axes: >"
      ]
     },
     "execution_count": 8,
     "metadata": {},
     "output_type": "execute_result"
    },
    {
     "data": {
      "image/png": "[encoded data removed]",
      "text/plain": [
       "<Figure size 640x480 with 2 Axes>"
      ]
     },
     "metadata": {},
     "output_type": "display_data"
    }
   ],
   "source": [
    "# Making a heatmap of the dataset correlation : including only numerical data\n",
    "linewidth = 2\n",
    "linecolor = \"red\"\n",
    "\n",
    "sns.heatmap(data=df.select_dtypes(include='number').corr(),\n",
    "            annot=True, \n",
    "            linewidth = linewidth, \n",
    "            linecolor = linecolor)"
   ]
  },
  {
   "cell_type": "code",
   "execution_count": 9,
   "id": "755dfb7a-1906-4788-b80e-e7b84ab4702d",
   "metadata": {},
   "outputs": [
    {
     "data": {
      "text/plain": [
       "label\n",
       "rice           400\n",
       "maize          400\n",
       "coffee         400\n",
       "jute           400\n",
       "cotton         400\n",
       "coconut        400\n",
       "papaya         400\n",
       "orange         400\n",
       "muskmelon      400\n",
       "watermelon     400\n",
       "grapes         400\n",
       "mango          400\n",
       "banana         400\n",
       "pomegranate    400\n",
       "lentil         400\n",
       "blackgram      400\n",
       "mungbean       400\n",
       "mothbeans      400\n",
       "pigeonpeas     400\n",
       "kidneybeans    400\n",
       "chickpea       400\n",
       "groundnuts     400\n",
       "Name: count, dtype: int64"
      ]
     },
     "execution_count": 9,
     "metadata": {},
     "output_type": "execute_result"
    }
   ],
   "source": [
    "df['label'].value_counts()"
   ]
  },
  {
   "cell_type": "markdown",
   "id": "108ef4c7-6c83-4af7-88cc-08c22c5253f9",
   "metadata": {},
   "source": [
    "Train Test Split"
   ]
  },
  {
   "cell_type": "code",
   "execution_count": 10,
   "id": "30516423-e35d-40cb-97a2-6d7e95c4267d",
   "metadata": {},
   "outputs": [],
   "source": [
    "from sklearn.model_selection import train_test_split\n",
    "features = df[['Nitrogen (mg)', 'Phosphorus (mg)', 'Potassium (mg)', 'Temperature (C)', 'Humidity (%)', 'PH (3-11)', 'Rainfall (mm)']]\n",
    "target = df['label']\n",
    "\n",
    "xtrain, xtest, ytrain, ytest = train_test_split(features,\n",
    "                                                target,\n",
    "                                                test_size = 0.2,\n",
    "                                                random_state = None)"
   ]
  },
  {
   "cell_type": "code",
   "execution_count": 11,
   "id": "c87c559a-9706-45db-9082-c38aa93f1195",
   "metadata": {},
   "outputs": [],
   "source": [
    "best_model = {}"
   ]
  },
  {
   "cell_type": "code",
   "execution_count": null,
   "id": "05d982a8-fa3c-4ec1-8816-a283de8df3cc",
   "metadata": {},
   "outputs": [],
   "source": []
  },
  {
   "cell_type": "code",
   "execution_count": 12,
   "id": "ed14e2ec-6f9e-4e33-804f-c0fa9f3e6fdb",
   "metadata": {},
   "outputs": [],
   "source": [
    "from sklearn.preprocessing import StandardScaler\n",
    "\n",
    "# Scale the data using StandardScaler\n",
    "scaler = StandardScaler()\n",
    "xtrain_scaled = scaler.fit_transform(xtrain)\n",
    "xtest_scaled = scaler.transform(xtest)"
   ]
  },
  {
   "cell_type": "code",
   "execution_count": 13,
   "id": "661d7ecd-0720-47f9-a531-c5e7048ba015",
   "metadata": {},
   "outputs": [],
   "source": [
    "# cross validation accuracy\n",
    "from sklearn.model_selection import cross_val_score\n",
    "\n",
    "def cross_val_accuracy(model):\n",
    "    # This function calculates the mean cross validation accuracy\n",
    "    score = cross_val_score(model, features, target,cv=5)\n",
    "    #get the mean of each fold \n",
    "    return score.mean() * 100"
   ]
  },
  {
   "cell_type": "code",
   "execution_count": 14,
   "id": "e9756ebc-085e-4b7d-855e-1b11def5df66",
   "metadata": {},
   "outputs": [],
   "source": [
    "# saving model\n",
    "\n",
    "import pickle\n",
    "\n",
    "def save_model(model, modelname):\n",
    "    #This function expects a model and a modelname(with .pkl extension)\n",
    "    # Setting model path\n",
    "    pkl_filename = 'D:/Projects/Crop recommendation/'+modelname\n",
    "    # Open the file to save as pkl file\n",
    "    model_pkl = open(pkl_filename, 'wb')\n",
    "    #dump model\n",
    "    pickle.dump(model, model_pkl)\n",
    "    # Close the pickle instances\n",
    "    model_pkl.close()"
   ]
  },
  {
   "cell_type": "markdown",
   "id": "fbfd4832-43ce-4830-8c39-63492824d266",
   "metadata": {},
   "source": [
    "Random Forest"
   ]
  },
  {
   "cell_type": "code",
   "execution_count": 41,
   "id": "61d50d63-0013-4bf1-8fb8-8aea73d3712a",
   "metadata": {},
   "outputs": [
    {
     "name": "stdout",
     "output_type": "stream",
     "text": [
      "Accuracy: 0.9210227272727273\n",
      "\n",
      "{'Random Forest': 92.10227272727273, 'SVM': 94.0340909090909, 'Naive Bayes': 94.20454545454545, 'Neural Network': 94.26136612892151, 'Decision Tree': 89.60227272727272}\n"
     ]
    }
   ],
   "source": [
    "from sklearn.ensemble import RandomForestClassifier\n",
    "\n",
    "RandomForest = RandomForestClassifier(n_estimators=20, random_state=None)\n",
    "\n",
    "# Fitting the training set to create a model\n",
    "RandomForest.fit(xtrain,ytrain)\n",
    "# Using test(x) to find y\n",
    "ypred = RandomForest.predict(xtest)\n",
    "\n",
    "accuracy = metrics.accuracy_score(ypred, ytest)\n",
    "print(f\"Accuracy: {accuracy}\",end='\\n\\n')\n",
    "\n",
    "# Adding the model to our dictionary\n",
    "best_model[\"Random Forest\"] = accuracy*100\n",
    "print(best_model)"
   ]
  },
  {
   "cell_type": "code",
   "execution_count": 16,
   "id": "ce8c1818-f78c-4502-bc1a-5985d5f524f6",
   "metadata": {},
   "outputs": [
    {
     "name": "stdout",
     "output_type": "stream",
     "text": [
      "Cross Validation Accuracy 95.17045454545455\n"
     ]
    }
   ],
   "source": [
    "print(f\"Cross Validation Accuracy {cross_val_accuracy(RandomForest)}\")"
   ]
  },
  {
   "cell_type": "code",
   "execution_count": 17,
   "id": "5b9b8ed9-4061-4893-980d-6c851e321f46",
   "metadata": {},
   "outputs": [],
   "source": [
    "save_model(RandomForest,'RandomForest.pkl')"
   ]
  },
  {
   "cell_type": "markdown",
   "id": "94db86fa-ec0b-45fc-b7a5-a0922ae92727",
   "metadata": {},
   "source": [
    "Support Vector Machines (SVM)"
   ]
  },
  {
   "cell_type": "code",
   "execution_count": 18,
   "id": "b9bbb193-092b-431e-b708-9b80d915013e",
   "metadata": {},
   "outputs": [
    {
     "name": "stdout",
     "output_type": "stream",
     "text": [
      "Accuracy: 0.9403409090909091\n",
      "\n",
      "{'Random Forest': 92.04545454545455, 'SVM': 94.0340909090909}\n"
     ]
    }
   ],
   "source": [
    "from sklearn.svm import SVC\n",
    "from sklearn.preprocessing import MinMaxScaler\n",
    "\n",
    "# fit scaler on training data\n",
    "norm = MinMaxScaler().fit(xtrain)\n",
    "x_train_norm = norm.transform(xtrain)\n",
    "# transform testing dataabs\n",
    "x_test_norm = norm.transform(xtest)\n",
    "SVM = SVC(kernel='poly', degree=3, C=1)\n",
    "SVM.fit(x_train_norm,ytrain)\n",
    "ypred = SVM.predict(x_test_norm)\n",
    "\n",
    "accuracy = metrics.accuracy_score(ytest, ypred)\n",
    "print(f\"Accuracy: {accuracy}\",end='\\n\\n')\n",
    "\n",
    "# Adding the model to our dictionary\n",
    "best_model[\"SVM\"] = accuracy*100\n",
    "print(best_model)"
   ]
  },
  {
   "cell_type": "code",
   "execution_count": 19,
   "id": "79ad7ecb-5f89-48ee-a36f-c6c2a70ad592",
   "metadata": {},
   "outputs": [
    {
     "name": "stdout",
     "output_type": "stream",
     "text": [
      "Cross Validation Accuracy 94.01136363636363\n"
     ]
    }
   ],
   "source": [
    "print(f\"Cross Validation Accuracy {cross_val_accuracy(SVM)}\")"
   ]
  },
  {
   "cell_type": "code",
   "execution_count": 20,
   "id": "12867aa2-a258-4d2c-9cbe-f8e2609acb4a",
   "metadata": {},
   "outputs": [],
   "source": [
    "save_model(SVM,'SVM.pkl')"
   ]
  },
  {
   "cell_type": "markdown",
   "id": "9132daf8-8aef-4305-b9b4-81145ea0b173",
   "metadata": {},
   "source": [
    "Naive Bayes"
   ]
  },
  {
   "cell_type": "code",
   "execution_count": 21,
   "id": "3d4f266c-e190-46d5-ba0a-58e28c1b363c",
   "metadata": {},
   "outputs": [
    {
     "name": "stdout",
     "output_type": "stream",
     "text": [
      "Accuracy: 0.9420454545454545\n",
      "\n",
      "{'Random Forest': 92.04545454545455, 'SVM': 94.0340909090909, 'Naive Bayes': 94.20454545454545}\n"
     ]
    }
   ],
   "source": [
    "from sklearn.naive_bayes import GaussianNB\n",
    "\n",
    "NaiveBayes = GaussianNB()\n",
    "\n",
    "# Fitting the training set to create a model\n",
    "NaiveBayes.fit(xtrain,ytrain)\n",
    "# Using test(x) to find y\n",
    "ypred = NaiveBayes.predict(xtest)\n",
    "\n",
    "accuracyn = metrics.accuracy_score(ypred,ytest)\n",
    "print(f\"Accuracy: {accuracyn}\",end='\\n\\n')\n",
    "\n",
    "# Adding the model to our dictionary\n",
    "best_model[\"Naive Bayes\"] = accuracyn*100\n",
    "print(best_model)"
   ]
  },
  {
   "cell_type": "code",
   "execution_count": 22,
   "id": "371f8b95-da24-4980-be52-a8f8502102d7",
   "metadata": {},
   "outputs": [
    {
     "name": "stdout",
     "output_type": "stream",
     "text": [
      "Cross Validation Accuracy 94.73863636363635\n"
     ]
    }
   ],
   "source": [
    "print(f\"Cross Validation Accuracy {cross_val_accuracy(NaiveBayes)}\")"
   ]
  },
  {
   "cell_type": "code",
   "execution_count": 23,
   "id": "509f6365-a9d0-4295-be7a-926fb74f9dfe",
   "metadata": {},
   "outputs": [],
   "source": [
    "save_model(NaiveBayes,'NaiveBayes.pkl')"
   ]
  },
  {
   "cell_type": "markdown",
   "id": "dba45dce-8a17-46ec-b819-3833b41fe2ca",
   "metadata": {},
   "source": [
    "Neural Network"
   ]
  },
  {
   "cell_type": "code",
   "execution_count": 45,
   "id": "b9b7477f-7be9-4e8a-9088-3fbf26c3a531",
   "metadata": {},
   "outputs": [],
   "source": [
    "import tensorflow as tf\n",
    "from tensorflow import keras\n",
    "from tensorflow.keras.models import Sequential\n",
    "from tensorflow.keras.layers import Dense\n",
    "from sklearn.preprocessing import LabelEncoder\n",
    "\n",
    "# Initialize LabelEncoder\n",
    "label_encoder = LabelEncoder()\n",
    "\n",
    "# Fit label encoder on the target labels and transform them\n",
    "ytrain_encoded = label_encoder.fit_transform(ytrain)\n",
    "ytest_encoded = label_encoder.transform(ytest)"
   ]
  },
  {
   "cell_type": "code",
   "execution_count": 46,
   "id": "e7e998fb-76ad-464e-a528-a6c1b3b50e1b",
   "metadata": {},
   "outputs": [],
   "source": [
    "# Build the model\n",
    "model = Sequential()\n",
    "# Shape (None,7)\n",
    "model.add(Dense(64, activation='relu', input_shape=(7,)))\n",
    "model.add(Dense(128, activation='relu'))  # Additional layer\n",
    "model.add(Dense(128, activation='relu'))  # Additional layer\n",
    "model.add(Dense(64, activation='relu'))  # Additional layer\n",
    "model.add(Dense(22, activation='softmax'))\n",
    "\n",
    "# Compile the model\n",
    "model.compile(optimizer='adam', loss='sparse_categorical_crossentropy', metrics=['accuracy'])\n",
    "\n",
    "# Define the callback\n",
    "class AccuracyCallback(keras.callbacks.Callback):\n",
    "    def on_epoch_end(self, epoch, logs=None):\n",
    "        if logs.get('accuracy') >= 0.99 and logs.get('val_accuracy') >= 0.99:\n",
    "            self.model.stop_training = True\n",
    "\n",
    "# Create an instance of the callback\n",
    "callback = AccuracyCallback()\n"
   ]
  },
  {
   "cell_type": "code",
   "execution_count": 47,
   "id": "8e6b57ad-b3e2-4d73-88fa-5f257eaf8669",
   "metadata": {},
   "outputs": [
    {
     "name": "stdout",
     "output_type": "stream",
     "text": [
      "Epoch 1/20\n",
      "220/220 [==============================] - 2s 4ms/step - loss: 0.8529 - accuracy: 0.7548 - val_loss: 0.2340 - val_accuracy: 0.8972\n",
      "Epoch 2/20\n",
      "220/220 [==============================] - 1s 3ms/step - loss: 0.1982 - accuracy: 0.9122 - val_loss: 0.1568 - val_accuracy: 0.9216\n",
      "Epoch 3/20\n",
      "220/220 [==============================] - 1s 3ms/step - loss: 0.1568 - accuracy: 0.9223 - val_loss: 0.1347 - val_accuracy: 0.9261\n",
      "Epoch 4/20\n",
      "220/220 [==============================] - 1s 3ms/step - loss: 0.1416 - accuracy: 0.9300 - val_loss: 0.1373 - val_accuracy: 0.9318\n",
      "Epoch 5/20\n",
      "220/220 [==============================] - 1s 3ms/step - loss: 0.1308 - accuracy: 0.9280 - val_loss: 0.1072 - val_accuracy: 0.9438\n",
      "Epoch 6/20\n",
      "220/220 [==============================] - 1s 3ms/step - loss: 0.1238 - accuracy: 0.9310 - val_loss: 0.0989 - val_accuracy: 0.9438\n",
      "Epoch 7/20\n",
      "220/220 [==============================] - 1s 3ms/step - loss: 0.1138 - accuracy: 0.9352 - val_loss: 0.1115 - val_accuracy: 0.9347\n",
      "Epoch 8/20\n",
      "220/220 [==============================] - 1s 3ms/step - loss: 0.1045 - accuracy: 0.9381 - val_loss: 0.1005 - val_accuracy: 0.9409\n",
      "Epoch 9/20\n",
      "220/220 [==============================] - 1s 3ms/step - loss: 0.1024 - accuracy: 0.9376 - val_loss: 0.0922 - val_accuracy: 0.9409\n",
      "Epoch 10/20\n",
      "220/220 [==============================] - 1s 3ms/step - loss: 0.0942 - accuracy: 0.9419 - val_loss: 0.0911 - val_accuracy: 0.9449\n",
      "Epoch 11/20\n",
      "220/220 [==============================] - 1s 3ms/step - loss: 0.0973 - accuracy: 0.9428 - val_loss: 0.0979 - val_accuracy: 0.9443\n",
      "Epoch 12/20\n",
      "220/220 [==============================] - 1s 3ms/step - loss: 0.1007 - accuracy: 0.9450 - val_loss: 0.0856 - val_accuracy: 0.9426\n",
      "Epoch 13/20\n",
      "220/220 [==============================] - 1s 3ms/step - loss: 0.0928 - accuracy: 0.9429 - val_loss: 0.0949 - val_accuracy: 0.9398\n",
      "Epoch 14/20\n",
      "220/220 [==============================] - 1s 3ms/step - loss: 0.0870 - accuracy: 0.9472 - val_loss: 0.0896 - val_accuracy: 0.9477\n",
      "Epoch 15/20\n",
      "220/220 [==============================] - 1s 3ms/step - loss: 0.0881 - accuracy: 0.9462 - val_loss: 0.0816 - val_accuracy: 0.9534\n",
      "Epoch 16/20\n",
      "220/220 [==============================] - 1s 3ms/step - loss: 0.0920 - accuracy: 0.9456 - val_loss: 0.0875 - val_accuracy: 0.9540\n",
      "Epoch 17/20\n",
      "220/220 [==============================] - 1s 3ms/step - loss: 0.0865 - accuracy: 0.9466 - val_loss: 0.0962 - val_accuracy: 0.9364\n",
      "Epoch 18/20\n",
      "220/220 [==============================] - 1s 3ms/step - loss: 0.0886 - accuracy: 0.9438 - val_loss: 0.0873 - val_accuracy: 0.9517\n",
      "Epoch 19/20\n",
      "220/220 [==============================] - 1s 3ms/step - loss: 0.0820 - accuracy: 0.9460 - val_loss: 0.0858 - val_accuracy: 0.9460\n",
      "Epoch 20/20\n",
      "220/220 [==============================] - 1s 3ms/step - loss: 0.0822 - accuracy: 0.9472 - val_loss: 0.0821 - val_accuracy: 0.9415\n",
      "55/55 [==============================] - 0s 2ms/step - loss: 0.0821 - accuracy: 0.9415\n",
      "Test Loss: 0.08213230222463608\n",
      "Test Accuracy: 0.9414772987365723\n"
     ]
    }
   ],
   "source": [
    "# Train the model with the encoded target labels and the callback\n",
    "model.fit(xtrain_scaled, ytrain_encoded, epochs=20, batch_size=32, validation_data=(xtest_scaled, ytest_encoded), callbacks=[callback])\n",
    "\n",
    "# Evaluate the model\n",
    "test_loss, test_acc = model.evaluate(xtest_scaled, ytest_encoded)\n",
    "print(f\"Test Loss: {test_loss}\")\n",
    "print(f\"Test Accuracy: {test_acc}\")"
   ]
  },
  {
   "cell_type": "code",
   "execution_count": 48,
   "id": "b50b8be7-88e8-44f8-b13f-d11e6bea6d91",
   "metadata": {},
   "outputs": [
    {
     "name": "stdout",
     "output_type": "stream",
     "text": [
      "{'Random Forest': 92.10227272727273, 'SVM': 94.0340909090909, 'Naive Bayes': 94.20454545454545, 'Neural Network': 94.14772987365723, 'Decision Tree': 89.60227272727272}\n"
     ]
    }
   ],
   "source": [
    "best_model['Neural Network'] = test_acc*100\n",
    "print(best_model)"
   ]
  },
  {
   "cell_type": "code",
   "execution_count": 29,
   "id": "9ac716c2-2fa3-4db5-9680-d362cdc27dcc",
   "metadata": {},
   "outputs": [],
   "source": [
    "# Save the model\n",
    "model.save(\"tensorflow_model.keras\")"
   ]
  },
  {
   "cell_type": "markdown",
   "id": "a284571b-1a3c-48dc-b1d3-3aa6006d272d",
   "metadata": {},
   "source": [
    "Decision Tree"
   ]
  },
  {
   "cell_type": "code",
   "execution_count": 30,
   "id": "05500bec-40cb-4e80-90a9-1ae714808d21",
   "metadata": {},
   "outputs": [
    {
     "name": "stdout",
     "output_type": "stream",
     "text": [
      "Accuracy: 0.8960227272727272\n",
      "\n",
      "{'Random Forest': 92.04545454545455, 'SVM': 94.0340909090909, 'Naive Bayes': 94.20454545454545, 'Neural Network': 94.26136612892151, 'Decision Tree': 89.60227272727272}\n"
     ]
    }
   ],
   "source": [
    "from sklearn.tree import DecisionTreeClassifier\n",
    "\n",
    "DecisionTree = DecisionTreeClassifier(criterion = \"entropy\",\n",
    "                                     random_state = None,\n",
    "                                     max_depth = 5)\n",
    "# Fitting the training set to create a model\n",
    "DecisionTree.fit(xtrain,ytrain)\n",
    "# Using test(x) to find y\n",
    "ypred = DecisionTree.predict(xtest)\n",
    "# Checking whether the predicted y for test(x) matches actual test(y)\n",
    "accuracy = metrics.accuracy_score(ypred,ytest)\n",
    "print(f\"Accuracy: {accuracy}\",end='\\n\\n')\n",
    "\n",
    "# Adding the model to our dictionary\n",
    "best_model[\"Decision Tree\"] = accuracy*100\n",
    "print(best_model)"
   ]
  },
  {
   "cell_type": "code",
   "execution_count": 31,
   "id": "3e1587d4-4e36-418b-a1c1-93d43d0b9546",
   "metadata": {},
   "outputs": [
    {
     "name": "stdout",
     "output_type": "stream",
     "text": [
      "Cross Validation Accuracy 87.26136363636364\n"
     ]
    }
   ],
   "source": [
    "print(f\"Cross Validation Accuracy {cross_val_accuracy(DecisionTree)}\")"
   ]
  },
  {
   "cell_type": "code",
   "execution_count": 33,
   "id": "47d9697b-cd2e-43b7-8efc-e486abf76eb4",
   "metadata": {},
   "outputs": [],
   "source": [
    "save_model(DecisionTree,'DecisionTree.pkl')"
   ]
  },
  {
   "cell_type": "markdown",
   "id": "fd34de47-b739-4f23-a77a-ea7e41083ad8",
   "metadata": {},
   "source": [
    "comparing all models"
   ]
  },
  {
   "cell_type": "code",
   "execution_count": 49,
   "id": "a2324fe2-b235-4212-8560-675a4fcaae69",
   "metadata": {},
   "outputs": [
    {
     "data": {
      "image/png": "[encoded data removed]",
      "text/plain": [
       "<Figure size 640x480 with 1 Axes>"
      ]
     },
     "metadata": {},
     "output_type": "display_data"
    }
   ],
   "source": [
    "# Extract model names and accuracies from the best_model dictionary\n",
    "accuracies = list(best_model.values())\n",
    "model_names = list(best_model.keys())\n",
    "\n",
    "# Create a bar plot using seaborn\n",
    "sns.barplot(x=accuracies, y=model_names)\n",
    "plt.xlabel('Model')\n",
    "plt.ylabel('Accuracy')\n",
    "plt.title('Model Accuracies')\n",
    "plt.show()"
   ]
  },
  {
   "cell_type": "code",
   "execution_count": 50,
   "id": "c723bc4f-2d40-45f2-83b1-7a41683a4625",
   "metadata": {},
   "outputs": [
    {
     "name": "stdout",
     "output_type": "stream",
     "text": [
      "Naive Bayes: 94.20454545454545\n",
      "Neural Network: 94.14772987365723\n",
      "SVM: 94.0340909090909\n",
      "Random Forest: 92.10227272727273\n",
      "Decision Tree: 89.60227272727272\n"
     ]
    }
   ],
   "source": [
    "# sorting based on accuracy\n",
    "sorted_items = sorted(best_model.items(), key=lambda x: x[1], reverse=True)\n",
    "\n",
    "# Print the keys and values in descending order\n",
    "for key, value in sorted_items:\n",
    "    print(f\"{key}: {value}\")"
   ]
  },
  {
   "cell_type": "code",
   "execution_count": 51,
   "id": "64c9d120-eb57-413b-85fe-a0ecba17132e",
   "metadata": {},
   "outputs": [
    {
     "name": "stdout",
     "output_type": "stream",
     "text": [
      "Key: Naive Bayes, Value: 94.20454545454545\n"
     ]
    }
   ],
   "source": [
    "# selecting the model with high accuracy\n",
    "max_key = max(best_model, key=best_model.get)\n",
    "max_value = best_model[max_key]\n",
    "\n",
    "print(f\"Key: {max_key}, Value: {max_value}\")"
   ]
  },
  {
   "cell_type": "code",
   "execution_count": null,
   "id": "0fe60f5a-ac10-45f1-af18-7221a735d533",
   "metadata": {},
   "outputs": [],
   "source": []
  },
  {
   "cell_type": "code",
   "execution_count": 33,
   "id": "5d3f29d8-4adc-42a2-9fc3-957b10ecd199",
   "metadata": {},
   "outputs": [
    {
     "name": "stdout",
     "output_type": "stream",
     "text": [
      "      Nitrogen (mg)  Phosphorus (mg)  Potassium (mg)  Temperature (C)  \\\n",
      "5773            111               28              47        26.982128   \n",
      "\n",
      "      Humidity (%)  PH (3-11)  Rainfall (mm)       label  \n",
      "5773     86.700683   6.770434      42.912922  watermelon  \n"
     ]
    }
   ],
   "source": [
    "# Randomly select one row from the DataFrame\n",
    "random_row = df.sample(n=1)\n",
    "\n",
    "print(random_row)\n",
    "\n",
    "# Extract the values of 'N', 'P', 'K', 'temperature', 'humidity', 'ph', and 'rainfall' from the random row\n",
    "random_values = random_row[['Nitrogen (mg)', 'Phosphorus (mg)', 'Potassium (mg)', 'Temperature (C)', 'Humidity (%)', 'PH (3-11)', 'Rainfall (mm)']].values"
   ]
  },
  {
   "cell_type": "code",
   "execution_count": 34,
   "id": "acc672c6-5b3f-40d3-930f-3d01ac5d33e6",
   "metadata": {},
   "outputs": [
    {
     "name": "stdout",
     "output_type": "stream",
     "text": [
      "['watermelon']\n"
     ]
    }
   ],
   "source": [
    "data = np.array(random_values)\n",
    "data_with_feature_names = pd.DataFrame(data, columns=['Nitrogen (mg)', 'Phosphorus (mg)', 'Potassium (mg)', 'Temperature (C)', 'Humidity (%)', 'PH (3-11)', 'Rainfall (mm)'])\n",
    "model = NaiveBayes\n",
    "prediction = model.predict(data_with_feature_names)\n",
    "print(prediction)"
   ]
  },
  {
   "cell_type": "code",
   "execution_count": 35,
   "id": "f4c3fa03-dbf1-41e8-bfca-82f2c47d1de4",
   "metadata": {},
   "outputs": [
    {
     "name": "stdout",
     "output_type": "stream",
     "text": [
      "      Nitrogen (mg)  Phosphorus (mg)  Potassium (mg)  Temperature (C)  \\\n",
      "3512            103                9              48        27.330121   \n",
      "\n",
      "      Humidity (%)  PH (3-11)  Rainfall (mm)       label  \n",
      "3512     87.484775   7.145108      57.573432  watermelon  \n"
     ]
    }
   ],
   "source": [
    "# Randomly select one row from the DataFrame\n",
    "random_row = df.sample(n=1)\n",
    "\n",
    "print(random_row)\n",
    "\n",
    "# Extract the values of 'N', 'P', 'K', 'temperature', 'humidity', 'ph', and 'rainfall' from the random row\n",
    "random_values = random_row[['Nitrogen (mg)', 'Phosphorus (mg)', 'Potassium (mg)', 'Temperature (C)', 'Humidity (%)', 'PH (3-11)', 'Rainfall (mm)']].values"
   ]
  },
  {
   "cell_type": "code",
   "execution_count": 36,
   "id": "2e82d672-c5d8-4674-be81-378a1574d701",
   "metadata": {},
   "outputs": [
    {
     "name": "stdout",
     "output_type": "stream",
     "text": [
      "['watermelon']\n"
     ]
    }
   ],
   "source": [
    "data = np.array(random_values)\n",
    "data_with_feature_names = pd.DataFrame(data, columns=['Nitrogen (mg)', 'Phosphorus (mg)', 'Potassium (mg)', 'Temperature (C)', 'Humidity (%)', 'PH (3-11)', 'Rainfall (mm)'])\n",
    "prediction = NaiveBayes.predict(data_with_feature_names)\n",
    "print(prediction)"
   ]
  },
  {
   "cell_type": "code",
   "execution_count": 105,
   "id": "5a3a37f9-1d0a-4924-9cd8-f1b7227a175c",
   "metadata": {},
   "outputs": [],
   "source": [
    "# model = NaiveBayes"
   ]
  },
  {
   "cell_type": "code",
   "execution_count": 52,
   "id": "4524e6f6-40db-4f27-b2c9-a5d129540cdf",
   "metadata": {},
   "outputs": [],
   "source": [
    "import tkinter as tk\n",
    "from tkinter import ttk\n",
    "import pandas as pd\n",
    "import joblib\n",
    "\n",
    "win = tk.Tk()\n",
    "win.title('Crop Recommendation')\n",
    "heading_label = ttk.Label(win, text=\"Crop Recommendation System\", font=('Helvetica', 14, 'bold'))\n",
    "heading_label.grid(row=0, column=0, columnspan=3)\n",
    "\n",
    "# Labels and entry boxes for user input\n",
    "labels = ['Nitrogen (mg)', 'Phosphorus (mg)', 'Potassium (mg)', 'Temperature (C)', 'Humidity (%)', 'PH (3-11)', 'Rainfall (mm)']\n",
    "\n",
    "input_vars = []\n",
    "\n",
    "for i, label in enumerate(labels):\n",
    "    ttk.Label(win, text=label).grid(row=i+1, column=0, sticky=tk.W)\n",
    "    var = tk.StringVar()\n",
    "    entry = ttk.Entry(win, width=25, textvariable=var)\n",
    "    entry.grid(row=i+1, column=1)\n",
    "    input_vars.append(var)\n"
   ]
  },
  {
   "cell_type": "code",
   "execution_count": null,
   "id": "791b8455-bc19-43e6-8719-d70f41f55727",
   "metadata": {},
   "outputs": [],
   "source": [
    "def recommend_crop():\n",
    "    # Retrieve user inputs\n",
    "    user_input = [var.get() for var in input_vars]\n",
    "    user_input = pd.DataFrame([user_input], columns=labels)\n",
    "\n",
    "    crop_model = model\n",
    "    predicted_crop = crop_model.predict(user_input)[0]\n",
    "    accuracy = accuracyn\n",
    "\n",
    "    # Display recommendation\n",
    "    result_var.set(f\"Predicted Crop: {predicted_crop}, Accuracy: {accuracy:.2f}\")\n",
    "\n",
    "    # Highlight the output/result\n",
    "    result_entry.configure(highlightcolor='green', highlightthickness=2)\n",
    "\n",
    "# Button for prediction\n",
    "predict_button = ttk.Button(win, text=\"Predict\", command=recommend_crop, style='Green.TButton')\n",
    "predict_button.grid(row=len(labels)+1, column=0)\n",
    "\n",
    "# Entry box for displaying prediction\n",
    "result_var = tk.StringVar()\n",
    "result_entry = ttk.Entry(win, width=50, textvariable=result_var, state='readonly', font=('Helvetica', 12, 'bold'))\n",
    "result_entry.grid(row=len(labels)+1, column=1, columnspan=2, padx=5)\n",
    "\n",
    "# Add style for green button\n",
    "style = ttk.Style()\n",
    "style.configure('Green.TButton', foreground='black', background='green')\n",
    "\n",
    "win.mainloop()"
   ]
  }
 ],
 "metadata": {
  "kernelspec": {
   "display_name": "Python 3 (ipykernel)",
   "language": "python",
   "name": "python3"
  },
  "language_info": {
   "codemirror_mode": {
    "name": "ipython",
    "version": 3
   },
   "file_extension": ".py",
   "mimetype": "text/x-python",
   "name": "python",
   "nbconvert_exporter": "python",
   "pygments_lexer": "ipython3",
   "version": "3.9.13"
  }
 },
 "nbformat": 4,
 "nbformat_minor": 5
}
